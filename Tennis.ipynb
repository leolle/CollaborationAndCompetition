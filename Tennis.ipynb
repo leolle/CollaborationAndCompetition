{
 "cells": [
  {
   "cell_type": "markdown",
   "metadata": {},
   "source": [
    "# Collaboration and Competition\n",
    "\n",
    "---\n",
    "\n",
    "You are welcome to use this coding environment to train your agent for the project.  Follow the instructions below to get started!\n",
    "\n",
    "### 1. Start the Environment\n",
    "\n",
    "Run the next code cell to install a few packages.  This line will take a few minutes to run!"
   ]
  },
  {
   "cell_type": "code",
   "execution_count": 1,
   "metadata": {},
   "outputs": [],
   "source": [
    "!pip -q install ./python"
   ]
  },
  {
   "cell_type": "markdown",
   "metadata": {},
   "source": [
    "The environment is already saved in the Workspace and can be accessed at the file path provided below. "
   ]
  },
  {
   "cell_type": "code",
   "execution_count": 2,
   "metadata": {},
   "outputs": [
    {
     "name": "stderr",
     "output_type": "stream",
     "text": [
      "INFO:unityagents:\n",
      "'Academy' started successfully!\n",
      "Unity Academy name: Academy\n",
      "        Number of Brains: 1\n",
      "        Number of External Brains : 1\n",
      "        Lesson number : 0\n",
      "        Reset Parameters :\n",
      "\t\t\n",
      "Unity brain name: TennisBrain\n",
      "        Number of Visual Observations (per agent): 0\n",
      "        Vector Observation space type: continuous\n",
      "        Vector Observation space size (per agent): 8\n",
      "        Number of stacked Vector Observation: 3\n",
      "        Vector Action space type: continuous\n",
      "        Vector Action space size (per agent): 2\n",
      "        Vector Action descriptions: , \n"
     ]
    }
   ],
   "source": [
    "from unityagents import UnityEnvironment\n",
    "import numpy as np\n",
    "\n",
    "env = UnityEnvironment(file_name=\"/data/Tennis_Linux_NoVis/Tennis\")"
   ]
  },
  {
   "cell_type": "markdown",
   "metadata": {},
   "source": [
    "Environments contain **_brains_** which are responsible for deciding the actions of their associated agents. Here we check for the first brain available, and set it as the default brain we will be controlling from Python."
   ]
  },
  {
   "cell_type": "code",
   "execution_count": 3,
   "metadata": {},
   "outputs": [],
   "source": [
    "# get the default brain\n",
    "brain_name = env.brain_names[0]\n",
    "brain = env.brains[brain_name]"
   ]
  },
  {
   "cell_type": "markdown",
   "metadata": {},
   "source": [
    "### 2. Examine the State and Action Spaces\n",
    "\n",
    "Run the code cell below to print some information about the environment."
   ]
  },
  {
   "cell_type": "code",
   "execution_count": 4,
   "metadata": {},
   "outputs": [
    {
     "name": "stdout",
     "output_type": "stream",
     "text": [
      "Number of agents: 2\n",
      "Size of each action: 2\n",
      "There are 2 agents. Each observes a state with length: 24\n",
      "The state for the first agent looks like: [ 0.          0.          0.          0.          0.          0.          0.\n",
      "  0.          0.          0.          0.          0.          0.          0.\n",
      "  0.          0.         -6.65278625 -1.5        -0.          0.\n",
      "  6.83172083  6.         -0.          0.        ]\n"
     ]
    }
   ],
   "source": [
    "# reset the environment\n",
    "env_info = env.reset(train_mode=True)[brain_name]\n",
    "\n",
    "# number of agents \n",
    "num_agents = len(env_info.agents)\n",
    "print('Number of agents:', num_agents)\n",
    "\n",
    "# size of each action\n",
    "action_size = brain.vector_action_space_size\n",
    "print('Size of each action:', action_size)\n",
    "\n",
    "# examine the state space \n",
    "states = env_info.vector_observations\n",
    "state_size = states.shape[1]\n",
    "print('There are {} agents. Each observes a state with length: {}'.format(states.shape[0], state_size))\n",
    "print('The state for the first agent looks like:', states[0])"
   ]
  },
  {
   "cell_type": "markdown",
   "metadata": {},
   "source": [
    "### 3. Take Random Actions in the Environment\n",
    "\n",
    "In the next code cell, you will learn how to use the Python API to control the agent and receive feedback from the environment.\n",
    "\n",
    "Note that **in this coding environment, you will not be able to watch the agents while they are training**, and you should set `train_mode=True` to restart the environment."
   ]
  },
  {
   "cell_type": "code",
   "execution_count": 5,
   "metadata": {},
   "outputs": [
    {
     "name": "stdout",
     "output_type": "stream",
     "text": [
      "Total score (averaged over agents) this episode: -0.004999999888241291\n",
      "Total score (averaged over agents) this episode: -0.004999999888241291\n",
      "Total score (averaged over agents) this episode: 0.04500000085681677\n",
      "Total score (averaged over agents) this episode: -0.004999999888241291\n",
      "Total score (averaged over agents) this episode: -0.004999999888241291\n"
     ]
    }
   ],
   "source": [
    "for i in range(5):                                         # play game for 5 episodes\n",
    "    env_info = env.reset(train_mode=False)[brain_name]     # reset the environment    \n",
    "    states = env_info.vector_observations                  # get the current state (for each agent)\n",
    "    scores = np.zeros(num_agents)                          # initialize the score (for each agent)\n",
    "    while True:\n",
    "        actions = np.random.randn(num_agents, action_size) # select an action (for each agent)\n",
    "        actions = np.clip(actions, -1, 1)                  # all actions between -1 and 1\n",
    "        env_info = env.step(actions)[brain_name]           # send all actions to tne environment\n",
    "        next_states = env_info.vector_observations         # get next state (for each agent)\n",
    "        rewards = env_info.rewards                         # get reward (for each agent)\n",
    "        dones = env_info.local_done                        # see if episode finished\n",
    "        scores += env_info.rewards                         # update the score (for each agent)\n",
    "        states = next_states                               # roll over states to next time step\n",
    "        \n",
    "        \n",
    "        if np.any(dones):                                  # exit loop if episode finished\n",
    "            break\n",
    "    print('Total score (averaged over agents) this episode: {}'.format(np.mean(scores)))"
   ]
  },
  {
   "cell_type": "markdown",
   "metadata": {},
   "source": [
    "When finished, you can close the environment."
   ]
  },
  {
   "cell_type": "code",
   "execution_count": 6,
   "metadata": {},
   "outputs": [],
   "source": [
    "# env.close()"
   ]
  },
  {
   "cell_type": "markdown",
   "metadata": {},
   "source": [
    "### 4. It's Your Turn!\n",
    "\n",
    "Now it's your turn to train your own agent to solve the environment!  A few **important notes**:\n",
    "- When training the environment, set `train_mode=True`, so that the line for resetting the environment looks like the following:\n",
    "```python\n",
    "env_info = env.reset(train_mode=True)[brain_name]\n",
    "```\n",
    "- To structure your work, you're welcome to work directly in this Jupyter notebook, or you might like to start over with a new file!  You can see the list of files in the workspace by clicking on **_Jupyter_** in the top left corner of the notebook.\n",
    "- In this coding environment, you will not be able to watch the agents while they are training.  However, **_after training the agents_**, you can download the saved model weights to watch the agents on your own machine! "
   ]
  },
  {
   "cell_type": "code",
   "execution_count": 7,
   "metadata": {},
   "outputs": [],
   "source": [
    "# necessary imports\n",
    "from maddpg import MADDPGAgent\n",
    "from collections import deque\n",
    "import torch"
   ]
  },
  {
   "cell_type": "code",
   "execution_count": 8,
   "metadata": {},
   "outputs": [],
   "source": [
    "agent = MADDPGAgent(state_size=state_size, action_size=action_size, seed=0)"
   ]
  },
  {
   "cell_type": "code",
   "execution_count": 9,
   "metadata": {},
   "outputs": [],
   "source": [
    "def train(n_episodes=10000, max_t=1000):\n",
    "    \n",
    "    scores = []                          # list to store the scores (averaged over all agents) estimated from each episode of training\n",
    "    scores_window = deque(maxlen=100)    # last 100 averaged (over all agents) scores\n",
    "    scores_mean = []                     # list to store the avg score (averaged over all agents) for 100 consecutive episodes\n",
    "    for i_episode in range(1, n_episodes+1):\n",
    "        # reset the environment\n",
    "        env_info = env.reset(train_mode=True)[brain_name]\n",
    "        \n",
    "        # set initial value of score as 0\n",
    "        scores_list = np.zeros(num_agents)     # list to store the scores of each agent for very episode\n",
    "        \n",
    "        # get initial state ===> dimension will be (num_agents,)\n",
    "        states = env_info.vector_observations\n",
    "        \n",
    "        # resetting the noise process\n",
    "        agent.reset()\n",
    "        \n",
    "        \n",
    "        for t_step in range(max_t):\n",
    "            \n",
    "            # taking actions based upon current estimate of DDPG policy for all agents\n",
    "            actions = agent.act(states)\n",
    "            \n",
    "            # now sending these actions to the envirnonment so that each agent can transition to the next state indepemdently\n",
    "            env_info = env.step(actions)[brain_name]\n",
    "           \n",
    "            # get the next states ===> dimension will be (num_agents,)\n",
    "            next_states = env_info.vector_observations\n",
    "            \n",
    "            # get the rewards\n",
    "            rewards = env_info.rewards\n",
    "            dones = env_info.local_done\n",
    "            \n",
    "            # now the agents learns from these experience tuples\n",
    "            agent.step(states, actions, rewards, next_states, dones)\n",
    "            \n",
    "            \n",
    "            # current_state <==== next_state\n",
    "            states = next_states\n",
    "            \n",
    "            # appending each agent immediate reward to it total undiscounted score\n",
    "            scores_list += rewards\n",
    "            \n",
    "            # check if any of the agents have reach the end of episode\n",
    "            if np.any(dones):\n",
    "                break\n",
    "                \n",
    "        # episode ends here       \n",
    "        \n",
    "        # taking the max of scores of all agents for this episode\n",
    "        score_for_this_episode = np.max(scores_list)\n",
    "        \n",
    "        # appending this score to scores_window\n",
    "        scores_window.append(score_for_this_episode)    # save most recent score\n",
    "        \n",
    "        # calculate the avg score (over 100 consecutive episodes); this is our final score\n",
    "        # this actually has to be more than 30.0\n",
    "        \n",
    "        final_score = np.mean(scores_window)                 # denotes the final score (=avg score over 100 consecutive episodes for all agents)\n",
    "        \n",
    "        # appeding the episode score to scores list\n",
    "        scores.append(score_for_this_episode)                                 # save most recent score\n",
    "    \n",
    "        print (\"\\rEpisode {:}\\t Average Score {:.2f}\".format(i_episode, final_score), end=\"\")\n",
    "        \n",
    "        if i_episode % 100 == 0:\n",
    "            print (\"\\rEpsiode {:}\\t Average Score {:.2f}\".format(i_episode, final_score))\n",
    "            torch.save(agent.actor_local.state_dict(), 'checkpoint_actor1.pth')\n",
    "            torch.save(agent.critic_local.state_dict(), 'checkpoint_critic1.pth')\n",
    "            \n",
    "        if i_episode >= 100:\n",
    "            scores_mean.append(final_score)                                        # appending final score\n",
    "            \n",
    "        if final_score >= 0.5:    # environment solved\n",
    "            print (\"\\nEnvironment solved in {:d} episodes!\\tAverage Score: {:2f}\".format(i_episode-100, final_score))\n",
    "            \n",
    "            torch.save(agent.actor_local.state_dict(), \"checkpoint_actor1.pth\")\n",
    "            torch.save(agent.critic_local.state_dict(), \"checkpoint_critic1.pth\")\n",
    "            break\n",
    "            \n",
    "    return scores, scores_mean, agent"
   ]
  },
  {
   "cell_type": "code",
   "execution_count": 10,
   "metadata": {},
   "outputs": [
    {
     "name": "stdout",
     "output_type": "stream",
     "text": [
      "Epsiode 100\t Average Score 0.00\n",
      "Epsiode 200\t Average Score 0.00\n",
      "Epsiode 300\t Average Score 0.00\n",
      "Epsiode 400\t Average Score 0.02\n",
      "Epsiode 500\t Average Score 0.02\n",
      "Epsiode 600\t Average Score 0.03\n",
      "Epsiode 700\t Average Score 0.02\n",
      "Epsiode 800\t Average Score 0.01\n",
      "Epsiode 900\t Average Score 0.01\n",
      "Epsiode 1000\t Average Score 0.00\n",
      "Epsiode 1100\t Average Score 0.00\n",
      "Epsiode 1200\t Average Score 0.02\n",
      "Epsiode 1300\t Average Score 0.03\n",
      "Epsiode 1400\t Average Score 0.00\n",
      "Epsiode 1500\t Average Score 0.02\n",
      "Epsiode 1600\t Average Score 0.12\n",
      "Epsiode 1700\t Average Score 0.10\n",
      "Epsiode 1800\t Average Score 0.13\n",
      "Epsiode 1900\t Average Score 0.11\n",
      "Epsiode 2000\t Average Score 0.10\n",
      "Epsiode 2100\t Average Score 0.18\n",
      "Episode 2147\t Average Score 0.50\n",
      "Environment solved in 2047 episodes!\tAverage Score: 0.502500\n"
     ]
    }
   ],
   "source": [
    "from workspace_utils import active_session\n",
    "\n",
    "with active_session():\n",
    "    dscores, dscores_mean, agent = train()"
   ]
  },
  {
   "cell_type": "code",
   "execution_count": 11,
   "metadata": {},
   "outputs": [],
   "source": [
    "import matplotlib.pyplot as plt"
   ]
  },
  {
   "cell_type": "code",
   "execution_count": 12,
   "metadata": {},
   "outputs": [
    {
     "data": {
      "image/png": "[encoded data removed]",
      "text/plain": [
       "<matplotlib.figure.Figure at 0x7f973bc03160>"
      ]
     },
     "metadata": {
      "needs_background": "light"
     },
     "output_type": "display_data"
    }
   ],
   "source": [
    "fig = plt.figure()\n",
    "ax = fig.add_subplot(111)\n",
    "plt.plot(np.arange(1, len(dscores)+1), dscores)\n",
    "plt.title('MADDPG agent')\n",
    "plt.ylabel('Score')\n",
    "plt.xlabel('Episode #')\n",
    "plt.show()"
   ]
  },
  {
   "cell_type": "code",
   "execution_count": 13,
   "metadata": {},
   "outputs": [
    {
     "data": {
      "image/png": "[encoded data removed]",
      "text/plain": [
       "<matplotlib.figure.Figure at 0x7f9739bae9e8>"
      ]
     },
     "metadata": {
      "needs_background": "light"
     },
     "output_type": "display_data"
    }
   ],
   "source": [
    "fig = plt.figure()\n",
    "ax = fig.add_subplot(111)\n",
    "plt.plot(np.arange(1, len(dscores_mean)+1), dscores_mean)\n",
    "plt.title('MADDPG agent')\n",
    "plt.ylabel('Average Score over 100 episodes')\n",
    "plt.xlabel('Episode #')\n",
    "plt.show()"
   ]
  },
  {
   "cell_type": "code",
   "execution_count": null,
   "metadata": {},
   "outputs": [],
   "source": []
  },
  {
   "cell_type": "code",
   "execution_count": null,
   "metadata": {},
   "outputs": [],
   "source": []
  },
  {
   "cell_type": "code",
   "execution_count": null,
   "metadata": {},
   "outputs": [],
   "source": []
  }
 ],
 "metadata": {
  "kernelspec": {
   "display_name": "Python 3",
   "language": "python",
   "name": "python3"
  },
  "language_info": {
   "codemirror_mode": {
    "name": "ipython",
    "version": 3
   },
   "file_extension": ".py",
   "mimetype": "text/x-python",
   "name": "python",
   "nbconvert_exporter": "python",
   "pygments_lexer": "ipython3",
   "version": "3.6.3"
  }
 },
 "nbformat": 4,
 "nbformat_minor": 2
}
